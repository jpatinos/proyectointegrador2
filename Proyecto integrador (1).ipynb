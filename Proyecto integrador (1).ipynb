{
 "cells": [
  {
   "cell_type": "markdown",
   "id": "5826feb4-8856-486d-a95e-1dead96f59cf",
   "metadata": {},
   "source": [
    "# Proyecto Integrador\n",
    "\n",
    "## Simón Madrid Marcela Díaz, Javier Patiño, Rafael Gil, Alejandro Arboleda.\n"
   ]
  },
  {
   "cell_type": "code",
   "execution_count": 33,
   "id": "0f97a544-d761-4964-b6a5-e0eec3430d34",
   "metadata": {},
   "outputs": [],
   "source": [
    "import pandas as pd\n",
    "import matplotlib.pyplot as plt\n",
    "import seaborn as sns\n",
    "import numpy as np\n",
    "from sklearn.preprocessing import OrdinalEncoder, StandardScaler\n",
    "from sklearn.linear_model import LogisticRegression\n",
    "from sklearn.model_selection import train_test_split\n",
    "from sklearn.neighbors import KNeighborsClassifier\n",
    "from sklearn.svm import SVC\n",
    "from sklearn.tree import DecisionTreeClassifier\n",
    "from sklearn.ensemble import RandomForestClassifier, GradientBoostingClassifier\n",
    "from sklearn.discriminant_analysis import LinearDiscriminantAnalysis\n",
    "from sklearn.discriminant_analysis import QuadraticDiscriminantAnalysis\n",
    "from sklearn.cluster import KMeans\n",
    "from sklearn.metrics import accuracy_score, log_loss, precision_score, f1_score, confusion_matrix, roc_curve, roc_auc_score"
   ]
  },
  {
   "cell_type": "code",
   "execution_count": 88,
   "id": "31e1d081-8385-44a4-8a58-232042732437",
   "metadata": {},
   "outputs": [],
   "source": [
    "# Cargamos los Datos\n",
    "data = pd.read_excel('Datos/BaseScoreRetanqueo.xlsx')"
   ]
  },
  {
   "cell_type": "code",
   "execution_count": 89,
   "id": "20eb8fb0-2cf5-4cd1-be62-9a6ef39ed8d8",
   "metadata": {},
   "outputs": [
    {
     "data": {
      "text/plain": [
       "Index(['Tipo Documento', 'Cedula', 'num obl', 'Primer credito',\n",
       "       'Fecha inicio primer credito', 'Segundo crédito',\n",
       "       'Fecha inicio segundo crédito', 'Genero', 'Zona', 'Departamento',\n",
       "       'Personas a cargo', 'Nivel de estudio', 'Estado civil',\n",
       "       'Fecha de nacimiento', 'Edad (Segundo credito)', 'Antigüedad laboral',\n",
       "       'Tipo de cliente', '1_Marca', '1_Capacidad de pago*', '1_ScoreRiesgos',\n",
       "       '1_Cantidad Moras 30', '1_Cantidad Moras 60', '1_Cantidad Moras 90',\n",
       "       '1_Cantidad Moras Mayor 120', '1_Cantidad Moras 30 Ultimos 6 Meses',\n",
       "       '1_Cantidad Moras 60 Ultimos 6 Meses',\n",
       "       '1_Cantidad Moras 90 Ultimos 6 Meses',\n",
       "       '1_Cantidad Moras Mayor 120 Ultimos 6 Meses', '1_Valor Desembolso',\n",
       "       '1_Valor Cuota', '2_Marca', '2_Capacidad de pago*', '2_ScoreRiesgos',\n",
       "       '2_Cantidad Moras 30', '2_Cantidad Moras 60', '2_Cantidad Moras 90',\n",
       "       '2_Cantidad Moras Mayor 120', '2_Cantidad Moras 30 Ultimos 6 Meses',\n",
       "       '2_Cantidad Moras 60 Ultimos 6 Meses',\n",
       "       '2_Cantidad Moras 90 Ultimos 6 Meses',\n",
       "       '2_Cantidad Moras Mayor 120 Ultimos 6 Meses', '2_Valor Desembolso',\n",
       "       '2_Valor Cuota', 'Default'],\n",
       "      dtype='object')"
      ]
     },
     "execution_count": 89,
     "metadata": {},
     "output_type": "execute_result"
    }
   ],
   "source": [
    "#Examinamos las columnas que tiene el DataFrame\n",
    "data.columns"
   ]
  },
  {
   "cell_type": "markdown",
   "id": "8e39e35a-6d28-4c43-a98b-588ce86645b1",
   "metadata": {},
   "source": [
    "La variable que buscamos predecir es Default, esta variable nos da cuenta de los clientes que tuvieron un buen habito de pago en su crédito. Buen habito (0) y mal habito (1) "
   ]
  },
  {
   "cell_type": "code",
   "execution_count": 90,
   "id": "5c3f8f88-d8ab-4311-8269-146e712c004d",
   "metadata": {},
   "outputs": [
    {
     "name": "stdout",
     "output_type": "stream",
     "text": [
      "Percentage of 0: 71.27 %\n",
      "Percentage of 1: 28.73 %\n"
     ]
    },
    {
     "data": {
      "image/png": "[encoded data removed]",
      "text/plain": [
       "<Figure size 360x360 with 1 Axes>"
      ]
     },
     "metadata": {
      "needs_background": "light"
     },
     "output_type": "display_data"
    }
   ],
   "source": [
    "# Analisis de la variable Default\n",
    "\n",
    "total = len(data)\n",
    "total_ceros = data.Default[data.Default == 0].count()\n",
    "total_unos = data.Default[data.Default == 1].count()\n",
    "\n",
    "fig, ax = plt.subplots(figsize=(5,5))\n",
    "sns.histplot(data.Default)\n",
    "print('Percentage of 0: {:.2f} %'.format(100*total_ceros/total))\n",
    "print('Percentage of 1: {:.2f} %'.format(100*total_unos/total))"
   ]
  },
  {
   "cell_type": "markdown",
   "id": "4e7f9cf9-ad67-4d1c-90c8-8eb74b973a2d",
   "metadata": {},
   "source": [
    "Podemos observar que la variable Default, solo tiene ceros y unos. Además, sus etiquetas están un poco desbalanceadas a favor de los unos, es decir hubo más clientes con buen habito de pago en su primer crédito. Ya descrita la variable objetivo, vamos a analizar las variables predictoras separándolas en variables numéricas y categóricas."
   ]
  },
  {
   "cell_type": "markdown",
   "id": "796d38e7-f940-4374-80ae-7844fa56dc8b",
   "metadata": {},
   "source": [
    "## Variables Numericas"
   ]
  },
  {
   "cell_type": "code",
   "execution_count": 91,
   "id": "b5d26632-f605-477a-9373-db2f6424f2f0",
   "metadata": {},
   "outputs": [],
   "source": [
    "data_numerica = data[['Personas a cargo','Edad (Segundo credito)','Antigüedad laboral','1_ScoreRiesgos','1_Cantidad Moras 30', '1_Cantidad Moras 60', '1_Cantidad Moras 90',\n",
    "'1_Cantidad Moras Mayor 120', '1_Cantidad Moras 30 Ultimos 6 Meses','1_Cantidad Moras 60 Ultimos 6 Meses','1_Cantidad Moras 90 Ultimos 6 Meses','1_Cantidad Moras Mayor 120 Ultimos 6 Meses', '1_Valor Desembolso',\n",
    "'1_Valor Cuota', '2_Capacidad de pago*', '2_ScoreRiesgos','2_Cantidad Moras 30', '2_Cantidad Moras 60', '2_Cantidad Moras 90','2_Cantidad Moras Mayor 120', '2_Cantidad Moras 30 Ultimos 6 Meses',\n",
    "'2_Cantidad Moras 60 Ultimos 6 Meses','2_Cantidad Moras 90 Ultimos 6 Meses','2_Cantidad Moras Mayor 120 Ultimos 6 Meses', '2_Valor Desembolso','2_Valor Cuota', 'Default']]"
   ]
  },
  {
   "cell_type": "code",
   "execution_count": 92,
   "id": "f19afcec-8365-48b8-975e-e80846684d5d",
   "metadata": {},
   "outputs": [
    {
     "data": {
      "text/html": [
       "<div>\n",
       "<style scoped>\n",
       "    .dataframe tbody tr th:only-of-type {\n",
       "        vertical-align: middle;\n",
       "    }\n",
       "\n",
       "    .dataframe tbody tr th {\n",
       "        vertical-align: top;\n",
       "    }\n",
       "\n",
       "    .dataframe thead th {\n",
       "        text-align: right;\n",
       "    }\n",
       "</style>\n",
       "<table border=\"1\" class=\"dataframe\">\n",
       "  <thead>\n",
       "    <tr style=\"text-align: right;\">\n",
       "      <th></th>\n",
       "      <th>Personas a cargo</th>\n",
       "      <th>Edad (Segundo credito)</th>\n",
       "      <th>Antigüedad laboral</th>\n",
       "      <th>1_ScoreRiesgos</th>\n",
       "      <th>1_Cantidad Moras 30</th>\n",
       "      <th>1_Cantidad Moras 60</th>\n",
       "      <th>1_Cantidad Moras 90</th>\n",
       "      <th>1_Cantidad Moras Mayor 120</th>\n",
       "      <th>1_Cantidad Moras 30 Ultimos 6 Meses</th>\n",
       "      <th>1_Cantidad Moras 60 Ultimos 6 Meses</th>\n",
       "      <th>...</th>\n",
       "      <th>2_Cantidad Moras 60</th>\n",
       "      <th>2_Cantidad Moras 90</th>\n",
       "      <th>2_Cantidad Moras Mayor 120</th>\n",
       "      <th>2_Cantidad Moras 30 Ultimos 6 Meses</th>\n",
       "      <th>2_Cantidad Moras 60 Ultimos 6 Meses</th>\n",
       "      <th>2_Cantidad Moras 90 Ultimos 6 Meses</th>\n",
       "      <th>2_Cantidad Moras Mayor 120 Ultimos 6 Meses</th>\n",
       "      <th>2_Valor Desembolso</th>\n",
       "      <th>2_Valor Cuota</th>\n",
       "      <th>Default</th>\n",
       "    </tr>\n",
       "  </thead>\n",
       "  <tbody>\n",
       "    <tr>\n",
       "      <th>0</th>\n",
       "      <td>0</td>\n",
       "      <td>26</td>\n",
       "      <td>6</td>\n",
       "      <td>47.16</td>\n",
       "      <td>1</td>\n",
       "      <td>0</td>\n",
       "      <td>0</td>\n",
       "      <td>0</td>\n",
       "      <td>1</td>\n",
       "      <td>0</td>\n",
       "      <td>...</td>\n",
       "      <td>0</td>\n",
       "      <td>0</td>\n",
       "      <td>0</td>\n",
       "      <td>0</td>\n",
       "      <td>0</td>\n",
       "      <td>0</td>\n",
       "      <td>0</td>\n",
       "      <td>6099000.0</td>\n",
       "      <td>327410</td>\n",
       "      <td>0</td>\n",
       "    </tr>\n",
       "    <tr>\n",
       "      <th>1</th>\n",
       "      <td>0</td>\n",
       "      <td>28</td>\n",
       "      <td>61</td>\n",
       "      <td>49.90</td>\n",
       "      <td>0</td>\n",
       "      <td>0</td>\n",
       "      <td>0</td>\n",
       "      <td>0</td>\n",
       "      <td>0</td>\n",
       "      <td>0</td>\n",
       "      <td>...</td>\n",
       "      <td>2</td>\n",
       "      <td>0</td>\n",
       "      <td>0</td>\n",
       "      <td>0</td>\n",
       "      <td>0</td>\n",
       "      <td>0</td>\n",
       "      <td>0</td>\n",
       "      <td>5865092.3</td>\n",
       "      <td>228479</td>\n",
       "      <td>0</td>\n",
       "    </tr>\n",
       "    <tr>\n",
       "      <th>2</th>\n",
       "      <td>0</td>\n",
       "      <td>23</td>\n",
       "      <td>21</td>\n",
       "      <td>-2.00</td>\n",
       "      <td>1</td>\n",
       "      <td>0</td>\n",
       "      <td>0</td>\n",
       "      <td>0</td>\n",
       "      <td>1</td>\n",
       "      <td>0</td>\n",
       "      <td>...</td>\n",
       "      <td>0</td>\n",
       "      <td>0</td>\n",
       "      <td>0</td>\n",
       "      <td>0</td>\n",
       "      <td>0</td>\n",
       "      <td>0</td>\n",
       "      <td>0</td>\n",
       "      <td>13452120.0</td>\n",
       "      <td>677161</td>\n",
       "      <td>0</td>\n",
       "    </tr>\n",
       "    <tr>\n",
       "      <th>3</th>\n",
       "      <td>1</td>\n",
       "      <td>23</td>\n",
       "      <td>50</td>\n",
       "      <td>54.00</td>\n",
       "      <td>4</td>\n",
       "      <td>2</td>\n",
       "      <td>1</td>\n",
       "      <td>4</td>\n",
       "      <td>0</td>\n",
       "      <td>1</td>\n",
       "      <td>...</td>\n",
       "      <td>1</td>\n",
       "      <td>0</td>\n",
       "      <td>0</td>\n",
       "      <td>0</td>\n",
       "      <td>1</td>\n",
       "      <td>0</td>\n",
       "      <td>0</td>\n",
       "      <td>3780220.0</td>\n",
       "      <td>173208</td>\n",
       "      <td>1</td>\n",
       "    </tr>\n",
       "    <tr>\n",
       "      <th>4</th>\n",
       "      <td>0</td>\n",
       "      <td>25</td>\n",
       "      <td>11</td>\n",
       "      <td>50.50</td>\n",
       "      <td>0</td>\n",
       "      <td>0</td>\n",
       "      <td>0</td>\n",
       "      <td>0</td>\n",
       "      <td>0</td>\n",
       "      <td>0</td>\n",
       "      <td>...</td>\n",
       "      <td>0</td>\n",
       "      <td>0</td>\n",
       "      <td>0</td>\n",
       "      <td>0</td>\n",
       "      <td>0</td>\n",
       "      <td>0</td>\n",
       "      <td>0</td>\n",
       "      <td>4999000.0</td>\n",
       "      <td>217658</td>\n",
       "      <td>0</td>\n",
       "    </tr>\n",
       "    <tr>\n",
       "      <th>...</th>\n",
       "      <td>...</td>\n",
       "      <td>...</td>\n",
       "      <td>...</td>\n",
       "      <td>...</td>\n",
       "      <td>...</td>\n",
       "      <td>...</td>\n",
       "      <td>...</td>\n",
       "      <td>...</td>\n",
       "      <td>...</td>\n",
       "      <td>...</td>\n",
       "      <td>...</td>\n",
       "      <td>...</td>\n",
       "      <td>...</td>\n",
       "      <td>...</td>\n",
       "      <td>...</td>\n",
       "      <td>...</td>\n",
       "      <td>...</td>\n",
       "      <td>...</td>\n",
       "      <td>...</td>\n",
       "      <td>...</td>\n",
       "      <td>...</td>\n",
       "    </tr>\n",
       "    <tr>\n",
       "      <th>1565</th>\n",
       "      <td>0</td>\n",
       "      <td>32</td>\n",
       "      <td>36</td>\n",
       "      <td>56.69</td>\n",
       "      <td>0</td>\n",
       "      <td>0</td>\n",
       "      <td>0</td>\n",
       "      <td>0</td>\n",
       "      <td>0</td>\n",
       "      <td>0</td>\n",
       "      <td>...</td>\n",
       "      <td>0</td>\n",
       "      <td>0</td>\n",
       "      <td>0</td>\n",
       "      <td>0</td>\n",
       "      <td>0</td>\n",
       "      <td>0</td>\n",
       "      <td>0</td>\n",
       "      <td>9745198.0</td>\n",
       "      <td>647745</td>\n",
       "      <td>0</td>\n",
       "    </tr>\n",
       "    <tr>\n",
       "      <th>1566</th>\n",
       "      <td>1</td>\n",
       "      <td>27</td>\n",
       "      <td>2</td>\n",
       "      <td>66.79</td>\n",
       "      <td>0</td>\n",
       "      <td>0</td>\n",
       "      <td>0</td>\n",
       "      <td>0</td>\n",
       "      <td>0</td>\n",
       "      <td>0</td>\n",
       "      <td>...</td>\n",
       "      <td>0</td>\n",
       "      <td>0</td>\n",
       "      <td>0</td>\n",
       "      <td>0</td>\n",
       "      <td>0</td>\n",
       "      <td>0</td>\n",
       "      <td>0</td>\n",
       "      <td>6650000.0</td>\n",
       "      <td>408005</td>\n",
       "      <td>0</td>\n",
       "    </tr>\n",
       "    <tr>\n",
       "      <th>1567</th>\n",
       "      <td>0</td>\n",
       "      <td>24</td>\n",
       "      <td>2</td>\n",
       "      <td>55.93</td>\n",
       "      <td>0</td>\n",
       "      <td>0</td>\n",
       "      <td>0</td>\n",
       "      <td>0</td>\n",
       "      <td>0</td>\n",
       "      <td>0</td>\n",
       "      <td>...</td>\n",
       "      <td>0</td>\n",
       "      <td>0</td>\n",
       "      <td>0</td>\n",
       "      <td>0</td>\n",
       "      <td>0</td>\n",
       "      <td>0</td>\n",
       "      <td>0</td>\n",
       "      <td>4550000.0</td>\n",
       "      <td>292390</td>\n",
       "      <td>0</td>\n",
       "    </tr>\n",
       "    <tr>\n",
       "      <th>1568</th>\n",
       "      <td>0</td>\n",
       "      <td>29</td>\n",
       "      <td>41</td>\n",
       "      <td>58.49</td>\n",
       "      <td>0</td>\n",
       "      <td>0</td>\n",
       "      <td>0</td>\n",
       "      <td>0</td>\n",
       "      <td>0</td>\n",
       "      <td>0</td>\n",
       "      <td>...</td>\n",
       "      <td>0</td>\n",
       "      <td>0</td>\n",
       "      <td>0</td>\n",
       "      <td>0</td>\n",
       "      <td>0</td>\n",
       "      <td>0</td>\n",
       "      <td>0</td>\n",
       "      <td>4600000.0</td>\n",
       "      <td>293875</td>\n",
       "      <td>0</td>\n",
       "    </tr>\n",
       "    <tr>\n",
       "      <th>1569</th>\n",
       "      <td>0</td>\n",
       "      <td>28</td>\n",
       "      <td>34</td>\n",
       "      <td>49.28</td>\n",
       "      <td>0</td>\n",
       "      <td>0</td>\n",
       "      <td>0</td>\n",
       "      <td>0</td>\n",
       "      <td>0</td>\n",
       "      <td>0</td>\n",
       "      <td>...</td>\n",
       "      <td>0</td>\n",
       "      <td>0</td>\n",
       "      <td>0</td>\n",
       "      <td>0</td>\n",
       "      <td>0</td>\n",
       "      <td>0</td>\n",
       "      <td>0</td>\n",
       "      <td>4800000.0</td>\n",
       "      <td>302409</td>\n",
       "      <td>0</td>\n",
       "    </tr>\n",
       "  </tbody>\n",
       "</table>\n",
       "<p>1570 rows × 27 columns</p>\n",
       "</div>"
      ],
      "text/plain": [
       "      Personas a cargo  Edad (Segundo credito)  Antigüedad laboral  \\\n",
       "0                    0                      26                   6   \n",
       "1                    0                      28                  61   \n",
       "2                    0                      23                  21   \n",
       "3                    1                      23                  50   \n",
       "4                    0                      25                  11   \n",
       "...                ...                     ...                 ...   \n",
       "1565                 0                      32                  36   \n",
       "1566                 1                      27                   2   \n",
       "1567                 0                      24                   2   \n",
       "1568                 0                      29                  41   \n",
       "1569                 0                      28                  34   \n",
       "\n",
       "      1_ScoreRiesgos  1_Cantidad Moras 30  1_Cantidad Moras 60  \\\n",
       "0              47.16                    1                    0   \n",
       "1              49.90                    0                    0   \n",
       "2              -2.00                    1                    0   \n",
       "3              54.00                    4                    2   \n",
       "4              50.50                    0                    0   \n",
       "...              ...                  ...                  ...   \n",
       "1565           56.69                    0                    0   \n",
       "1566           66.79                    0                    0   \n",
       "1567           55.93                    0                    0   \n",
       "1568           58.49                    0                    0   \n",
       "1569           49.28                    0                    0   \n",
       "\n",
       "      1_Cantidad Moras 90  1_Cantidad Moras Mayor 120  \\\n",
       "0                       0                           0   \n",
       "1                       0                           0   \n",
       "2                       0                           0   \n",
       "3                       1                           4   \n",
       "4                       0                           0   \n",
       "...                   ...                         ...   \n",
       "1565                    0                           0   \n",
       "1566                    0                           0   \n",
       "1567                    0                           0   \n",
       "1568                    0                           0   \n",
       "1569                    0                           0   \n",
       "\n",
       "      1_Cantidad Moras 30 Ultimos 6 Meses  \\\n",
       "0                                       1   \n",
       "1                                       0   \n",
       "2                                       1   \n",
       "3                                       0   \n",
       "4                                       0   \n",
       "...                                   ...   \n",
       "1565                                    0   \n",
       "1566                                    0   \n",
       "1567                                    0   \n",
       "1568                                    0   \n",
       "1569                                    0   \n",
       "\n",
       "      1_Cantidad Moras 60 Ultimos 6 Meses  ...  2_Cantidad Moras 60  \\\n",
       "0                                       0  ...                    0   \n",
       "1                                       0  ...                    2   \n",
       "2                                       0  ...                    0   \n",
       "3                                       1  ...                    1   \n",
       "4                                       0  ...                    0   \n",
       "...                                   ...  ...                  ...   \n",
       "1565                                    0  ...                    0   \n",
       "1566                                    0  ...                    0   \n",
       "1567                                    0  ...                    0   \n",
       "1568                                    0  ...                    0   \n",
       "1569                                    0  ...                    0   \n",
       "\n",
       "      2_Cantidad Moras 90  2_Cantidad Moras Mayor 120  \\\n",
       "0                       0                           0   \n",
       "1                       0                           0   \n",
       "2                       0                           0   \n",
       "3                       0                           0   \n",
       "4                       0                           0   \n",
       "...                   ...                         ...   \n",
       "1565                    0                           0   \n",
       "1566                    0                           0   \n",
       "1567                    0                           0   \n",
       "1568                    0                           0   \n",
       "1569                    0                           0   \n",
       "\n",
       "      2_Cantidad Moras 30 Ultimos 6 Meses  \\\n",
       "0                                       0   \n",
       "1                                       0   \n",
       "2                                       0   \n",
       "3                                       0   \n",
       "4                                       0   \n",
       "...                                   ...   \n",
       "1565                                    0   \n",
       "1566                                    0   \n",
       "1567                                    0   \n",
       "1568                                    0   \n",
       "1569                                    0   \n",
       "\n",
       "      2_Cantidad Moras 60 Ultimos 6 Meses  \\\n",
       "0                                       0   \n",
       "1                                       0   \n",
       "2                                       0   \n",
       "3                                       1   \n",
       "4                                       0   \n",
       "...                                   ...   \n",
       "1565                                    0   \n",
       "1566                                    0   \n",
       "1567                                    0   \n",
       "1568                                    0   \n",
       "1569                                    0   \n",
       "\n",
       "      2_Cantidad Moras 90 Ultimos 6 Meses  \\\n",
       "0                                       0   \n",
       "1                                       0   \n",
       "2                                       0   \n",
       "3                                       0   \n",
       "4                                       0   \n",
       "...                                   ...   \n",
       "1565                                    0   \n",
       "1566                                    0   \n",
       "1567                                    0   \n",
       "1568                                    0   \n",
       "1569                                    0   \n",
       "\n",
       "      2_Cantidad Moras Mayor 120 Ultimos 6 Meses  2_Valor Desembolso  \\\n",
       "0                                              0           6099000.0   \n",
       "1                                              0           5865092.3   \n",
       "2                                              0          13452120.0   \n",
       "3                                              0           3780220.0   \n",
       "4                                              0           4999000.0   \n",
       "...                                          ...                 ...   \n",
       "1565                                           0           9745198.0   \n",
       "1566                                           0           6650000.0   \n",
       "1567                                           0           4550000.0   \n",
       "1568                                           0           4600000.0   \n",
       "1569                                           0           4800000.0   \n",
       "\n",
       "      2_Valor Cuota  Default  \n",
       "0            327410        0  \n",
       "1            228479        0  \n",
       "2            677161        0  \n",
       "3            173208        1  \n",
       "4            217658        0  \n",
       "...             ...      ...  \n",
       "1565         647745        0  \n",
       "1566         408005        0  \n",
       "1567         292390        0  \n",
       "1568         293875        0  \n",
       "1569         302409        0  \n",
       "\n",
       "[1570 rows x 27 columns]"
      ]
     },
     "execution_count": 92,
     "metadata": {},
     "output_type": "execute_result"
    }
   ],
   "source": [
    "data_numerica"
   ]
  },
  {
   "cell_type": "code",
   "execution_count": 95,
   "id": "07109aa3-6ec3-4bd0-a5d3-a16b43098590",
   "metadata": {},
   "outputs": [
    {
     "data": {
      "text/plain": [
       "Personas a cargo                              0.220740\n",
       "Edad (Segundo credito)                       -0.040261\n",
       "Antigüedad laboral                            0.004626\n",
       "1_ScoreRiesgos                               -0.036207\n",
       "1_Cantidad Moras 30                           0.355464\n",
       "1_Cantidad Moras 60                           0.492984\n",
       "1_Cantidad Moras 90                           0.580309\n",
       "1_Cantidad Moras Mayor 120                    0.521025\n",
       "1_Cantidad Moras 30 Ultimos 6 Meses           0.352210\n",
       "1_Cantidad Moras 60 Ultimos 6 Meses           0.504800\n",
       "1_Cantidad Moras 90 Ultimos 6 Meses           0.559666\n",
       "1_Cantidad Moras Mayor 120 Ultimos 6 Meses    0.528333\n",
       "1_Valor Desembolso                            0.055067\n",
       "1_Valor Cuota                                 0.015529\n",
       "2_Capacidad de pago*                         -0.058481\n",
       "2_ScoreRiesgos                               -0.198894\n",
       "2_Cantidad Moras 30                           0.591510\n",
       "2_Cantidad Moras 60                           0.777678\n",
       "2_Cantidad Moras 90                           0.899598\n",
       "2_Cantidad Moras Mayor 120                    0.786806\n",
       "2_Cantidad Moras 30 Ultimos 6 Meses           0.106342\n",
       "2_Cantidad Moras 60 Ultimos 6 Meses           0.323916\n",
       "2_Cantidad Moras 90 Ultimos 6 Meses           0.419796\n",
       "2_Cantidad Moras Mayor 120 Ultimos 6 Meses    0.798486\n",
       "2_Valor Desembolso                           -0.050385\n",
       "2_Valor Cuota                                -0.167283\n",
       "Default                                       1.000000\n",
       "Name: Default, dtype: float64"
      ]
     },
     "execution_count": 95,
     "metadata": {},
     "output_type": "execute_result"
    }
   ],
   "source": [
    "#Analizamos las correlacion de cada variable con la variable Default, usando el coeficiente de Kendall que es mas robusto que el de Pearson\n",
    "\n",
    "corr_df = data_numerica.corr(method='kendall')\n",
    "corr_df['Default']"
   ]
  },
  {
   "cell_type": "code",
   "execution_count": 96,
   "id": "6dfff50a-1b8e-4051-b9c1-9d6490b76564",
   "metadata": {},
   "outputs": [
    {
     "data": {
      "image/png": "[encoded data removed]",
      "text/plain": [
       "<Figure size 432x288 with 2 Axes>"
      ]
     },
     "metadata": {
      "needs_background": "light"
     },
     "output_type": "display_data"
    }
   ],
   "source": [
    "sns.heatmap(corr_df);"
   ]
  },
  {
   "cell_type": "markdown",
   "id": "025d5ffc-e200-4fe8-8172-7b2d31b2813b",
   "metadata": {},
   "source": [
    "## Variables categoricas"
   ]
  },
  {
   "cell_type": "markdown",
   "id": "13006718-3a90-458f-8d90-1fefc7786637",
   "metadata": {},
   "source": [
    "Vamos a analizar las variables categóricas, lo primero es observar cuantas clases hay por cada variable y si realmente tienen relevancia. Luego vamos a aplicar un Encoder para pasar las variables de categórica a numéricas, para ser usadas posteriormente en los modelos.    "
   ]
  },
  {
   "cell_type": "code",
   "execution_count": 97,
   "id": "c2aa18fa-13fd-41f4-ae03-de233a59e8c0",
   "metadata": {},
   "outputs": [],
   "source": [
    "data_categoria = data[['Tipo Documento', 'Genero', 'Zona', 'Departamento', 'Estado civil','Tipo de cliente','1_Marca','2_Marca']]"
   ]
  },
  {
   "cell_type": "code",
   "execution_count": 98,
   "id": "9c154f91-db5f-4cda-aa14-7dbedb9bba99",
   "metadata": {},
   "outputs": [
    {
     "name": "stdout",
     "output_type": "stream",
     "text": [
      "Number of Unique values for Tipo Documento =  3 ['CC' 'CE' 'PASA']\n",
      "Number of Unique values for Genero =  2 ['M' 'F']\n",
      "Number of Unique values for Zona =  7 ['ZONA BOGOTA' 'ZONA ANTIOQUIA' 'ZONA COSTA' 'ZONA CENTRO'\n",
      " 'ZONA SUROCCIDENTE' 'ZONA EJE CAFETERO' 'ZONA ORIENTE']\n",
      "Number of Unique values for Departamento =  22 ['Bogotá D.C' 'Antioquia' 'Cesar' 'Córdoba' 'Cundinamarca' 'Risaralda'\n",
      " 'Valle del Cauca' 'Tolima' 'Meta' 'Magdalena' 'Atlántico' 'Bolívar'\n",
      " 'Huila' 'Norte de Santander' 'Santander' 'Sucre' 'Caldas' 'Cauca'\n",
      " 'Quindio' 'Boyacá' 'Caquetá' 'Casanare']\n",
      "Number of Unique values for Estado civil =  5 ['Unión Libre' 'Soltero(a)' 'Casado(a)' 'Divorciado(a)' 'Viudo(a)']\n",
      "Number of Unique values for Tipo de cliente =  4 ['Empleado Formal' 'Empleado Informal' 'Independiente' 'Pensionado']\n",
      "Number of Unique values for 1_Marca =  16 ['AUTECO' 'VICTORY' 'KYMCO' 'HONDA' 'YAMAHA' 'KAWASAKI' 'SUZUKI' 'TVS'\n",
      " 'SUYO' 'KTM' 'STARKER' 'BENELLI' 'HERO' 'SYM' 'COMBAT' 'CERONTE']\n",
      "Number of Unique values for 2_Marca =  17 ['TVS' 'KYMCO' 'AUTECO' 'VICTORY' 'SUYO' 'YAMAHA' 'SYM' 'HERO' 'BENELLI'\n",
      " 'HONDA' 'KTM' 'SUZUKI' 'CERONTE' 'COMBAT' 'STARKER' 'KAWASAKI' 'PIAGGIO']\n"
     ]
    }
   ],
   "source": [
    "keys = data_categoria.columns\n",
    "for label, content in data_categoria.items():\n",
    "    print('Number of Unique values for {} =  {} {}'.format(label,len(content.unique()),content.unique()))"
   ]
  },
  {
   "cell_type": "code",
   "execution_count": 99,
   "id": "9833a9ef-05fd-47b3-8ccc-3103ef1d001c",
   "metadata": {},
   "outputs": [
    {
     "name": "stdout",
     "output_type": "stream",
     "text": [
      "Tipo Documento\n",
      "Genero\n",
      "Zona\n",
      "Departamento\n",
      "Estado civil\n",
      "Tipo de cliente\n",
      "1_Marca\n",
      "2_Marca\n"
     ]
    }
   ],
   "source": [
    "ord_enc = OrdinalEncoder()\n",
    "categorical_ord = data_categoria.copy(deep=True)\n",
    "for label, content in data_categoria.items():\n",
    "    print(label)\n",
    "    categorical_ord[label+'_ord'] =  ord_enc.fit_transform(data_categoria[[label]])\n",
    "categorical_ord['Default1'] = data['Default']"
   ]
  },
  {
   "cell_type": "code",
   "execution_count": 105,
   "id": "f470f200-35cf-498f-82c8-e6a8c201d377",
   "metadata": {},
   "outputs": [
    {
     "name": "stderr",
     "output_type": "stream",
     "text": [
      "/tmp/ipykernel_53793/2402237020.py:1: FutureWarning: The default value of numeric_only in DataFrame.corr is deprecated. In a future version, it will default to False. Select only valid columns or specify the value of numeric_only to silence this warning.\n",
      "  corr_df = categorical_ord.corr(method='kendall')\n"
     ]
    },
    {
     "data": {
      "text/plain": [
       "Tipo Documento_ord    -0.050790\n",
       "Genero_ord             0.051568\n",
       "Zona_ord              -0.003189\n",
       "Departamento_ord      -0.049761\n",
       "Estado civil_ord       0.008760\n",
       "Tipo de cliente_ord    0.029663\n",
       "1_Marca_ord           -0.119015\n",
       "2_Marca_ord           -0.273625\n",
       "Default1               1.000000\n",
       "Name: Default1, dtype: float64"
      ]
     },
     "execution_count": 105,
     "metadata": {},
     "output_type": "execute_result"
    }
   ],
   "source": [
    "corr_df = categorical_ord.corr(method='kendall')\n",
    "corr_df['Default1']"
   ]
  },
  {
   "cell_type": "code",
   "execution_count": 101,
   "id": "c5f548fc-e004-40cd-9311-4fe33f2e41f7",
   "metadata": {},
   "outputs": [
    {
     "data": {
      "image/png": "[encoded data removed]",
      "text/plain": [
       "<Figure size 432x288 with 2 Axes>"
      ]
     },
     "metadata": {
      "needs_background": "light"
     },
     "output_type": "display_data"
    }
   ],
   "source": [
    "sns.heatmap(corr_df);"
   ]
  },
  {
   "cell_type": "code",
   "execution_count": 102,
   "id": "39c2148e-50c7-4194-86bd-2e226e2cb5ae",
   "metadata": {},
   "outputs": [],
   "source": [
    "data = pd.concat([categorical_ord,data], axis = 1)"
   ]
  },
  {
   "cell_type": "code",
   "execution_count": 106,
   "id": "8a16c560-383a-4f2c-9824-3ea874738a96",
   "metadata": {},
   "outputs": [],
   "source": [
    "#Seleccionamos las variables que tienen mayor correlacion con la variable objetivo(Default)\n",
    "\n",
    "data_final = data[['Edad (Segundo credito)','Personas a cargo','1_Cantidad Moras 30', '1_Cantidad Moras 60', '1_Cantidad Moras 90',\n",
    "                   '1_Cantidad Moras Mayor 120', '1_Cantidad Moras 30 Ultimos 6 Meses','1_Cantidad Moras 60 Ultimos 6 Meses',\n",
    "                   '1_Cantidad Moras 90 Ultimos 6 Meses','1_Cantidad Moras Mayor 120 Ultimos 6 Meses',\n",
    "                   'Genero_ord','Tipo de cliente_ord', '1_Marca_ord', '2_Marca_ord']]"
   ]
  },
  {
   "cell_type": "code",
   "execution_count": 107,
   "id": "790d8f5a-a727-438d-9f01-51ad5bb6f55f",
   "metadata": {},
   "outputs": [
    {
     "name": "stdout",
     "output_type": "stream",
     "text": [
      "Number of NaNs of Edad (Segundo credito): 0\n",
      "Number of NaNs of Personas a cargo: 0\n",
      "Number of NaNs of 1_Cantidad Moras 30: 0\n",
      "Number of NaNs of 1_Cantidad Moras 60: 0\n",
      "Number of NaNs of 1_Cantidad Moras 90: 0\n",
      "Number of NaNs of 1_Cantidad Moras Mayor 120: 0\n",
      "Number of NaNs of 1_Cantidad Moras 30 Ultimos 6 Meses: 0\n",
      "Number of NaNs of 1_Cantidad Moras 60 Ultimos 6 Meses: 0\n",
      "Number of NaNs of 1_Cantidad Moras 90 Ultimos 6 Meses: 0\n",
      "Number of NaNs of 1_Cantidad Moras Mayor 120 Ultimos 6 Meses: 0\n",
      "Number of NaNs of Genero_ord: 0\n",
      "Number of NaNs of Tipo de cliente_ord: 0\n",
      "Number of NaNs of 1_Marca_ord: 0\n",
      "Number of NaNs of 2_Marca_ord: 0\n"
     ]
    }
   ],
   "source": [
    "for label, content in data_final.items():\n",
    "    print('Number of NaNs of {}: {}'.format(label, content.isna().sum() ))"
   ]
  },
  {
   "cell_type": "code",
   "execution_count": 108,
   "id": "44548702-29af-4f65-97c4-c99168c19728",
   "metadata": {},
   "outputs": [
    {
     "data": {
      "text/html": [
       "<div>\n",
       "<style scoped>\n",
       "    .dataframe tbody tr th:only-of-type {\n",
       "        vertical-align: middle;\n",
       "    }\n",
       "\n",
       "    .dataframe tbody tr th {\n",
       "        vertical-align: top;\n",
       "    }\n",
       "\n",
       "    .dataframe thead th {\n",
       "        text-align: right;\n",
       "    }\n",
       "</style>\n",
       "<table border=\"1\" class=\"dataframe\">\n",
       "  <thead>\n",
       "    <tr style=\"text-align: right;\">\n",
       "      <th></th>\n",
       "      <th>Edad (Segundo credito)</th>\n",
       "      <th>Personas a cargo</th>\n",
       "      <th>1_Cantidad Moras 30</th>\n",
       "      <th>1_Cantidad Moras 60</th>\n",
       "      <th>1_Cantidad Moras 90</th>\n",
       "      <th>1_Cantidad Moras Mayor 120</th>\n",
       "      <th>1_Cantidad Moras 30 Ultimos 6 Meses</th>\n",
       "      <th>1_Cantidad Moras 60 Ultimos 6 Meses</th>\n",
       "      <th>1_Cantidad Moras 90 Ultimos 6 Meses</th>\n",
       "      <th>1_Cantidad Moras Mayor 120 Ultimos 6 Meses</th>\n",
       "      <th>Genero_ord</th>\n",
       "      <th>Tipo de cliente_ord</th>\n",
       "      <th>1_Marca_ord</th>\n",
       "      <th>2_Marca_ord</th>\n",
       "    </tr>\n",
       "  </thead>\n",
       "  <tbody>\n",
       "    <tr>\n",
       "      <th>0</th>\n",
       "      <td>26</td>\n",
       "      <td>0</td>\n",
       "      <td>1</td>\n",
       "      <td>0</td>\n",
       "      <td>0</td>\n",
       "      <td>0</td>\n",
       "      <td>1</td>\n",
       "      <td>0</td>\n",
       "      <td>0</td>\n",
       "      <td>0</td>\n",
       "      <td>1.0</td>\n",
       "      <td>0.0</td>\n",
       "      <td>0.0</td>\n",
       "      <td>14.0</td>\n",
       "    </tr>\n",
       "    <tr>\n",
       "      <th>1</th>\n",
       "      <td>28</td>\n",
       "      <td>0</td>\n",
       "      <td>0</td>\n",
       "      <td>0</td>\n",
       "      <td>0</td>\n",
       "      <td>0</td>\n",
       "      <td>0</td>\n",
       "      <td>0</td>\n",
       "      <td>0</td>\n",
       "      <td>0</td>\n",
       "      <td>0.0</td>\n",
       "      <td>0.0</td>\n",
       "      <td>14.0</td>\n",
       "      <td>8.0</td>\n",
       "    </tr>\n",
       "    <tr>\n",
       "      <th>2</th>\n",
       "      <td>23</td>\n",
       "      <td>0</td>\n",
       "      <td>1</td>\n",
       "      <td>0</td>\n",
       "      <td>0</td>\n",
       "      <td>0</td>\n",
       "      <td>1</td>\n",
       "      <td>0</td>\n",
       "      <td>0</td>\n",
       "      <td>0</td>\n",
       "      <td>1.0</td>\n",
       "      <td>0.0</td>\n",
       "      <td>8.0</td>\n",
       "      <td>0.0</td>\n",
       "    </tr>\n",
       "    <tr>\n",
       "      <th>3</th>\n",
       "      <td>23</td>\n",
       "      <td>1</td>\n",
       "      <td>4</td>\n",
       "      <td>2</td>\n",
       "      <td>1</td>\n",
       "      <td>4</td>\n",
       "      <td>0</td>\n",
       "      <td>1</td>\n",
       "      <td>1</td>\n",
       "      <td>4</td>\n",
       "      <td>1.0</td>\n",
       "      <td>0.0</td>\n",
       "      <td>0.0</td>\n",
       "      <td>0.0</td>\n",
       "    </tr>\n",
       "    <tr>\n",
       "      <th>4</th>\n",
       "      <td>25</td>\n",
       "      <td>0</td>\n",
       "      <td>0</td>\n",
       "      <td>0</td>\n",
       "      <td>0</td>\n",
       "      <td>0</td>\n",
       "      <td>0</td>\n",
       "      <td>0</td>\n",
       "      <td>0</td>\n",
       "      <td>0</td>\n",
       "      <td>1.0</td>\n",
       "      <td>0.0</td>\n",
       "      <td>0.0</td>\n",
       "      <td>15.0</td>\n",
       "    </tr>\n",
       "    <tr>\n",
       "      <th>...</th>\n",
       "      <td>...</td>\n",
       "      <td>...</td>\n",
       "      <td>...</td>\n",
       "      <td>...</td>\n",
       "      <td>...</td>\n",
       "      <td>...</td>\n",
       "      <td>...</td>\n",
       "      <td>...</td>\n",
       "      <td>...</td>\n",
       "      <td>...</td>\n",
       "      <td>...</td>\n",
       "      <td>...</td>\n",
       "      <td>...</td>\n",
       "      <td>...</td>\n",
       "    </tr>\n",
       "    <tr>\n",
       "      <th>1565</th>\n",
       "      <td>32</td>\n",
       "      <td>0</td>\n",
       "      <td>0</td>\n",
       "      <td>0</td>\n",
       "      <td>0</td>\n",
       "      <td>0</td>\n",
       "      <td>0</td>\n",
       "      <td>0</td>\n",
       "      <td>0</td>\n",
       "      <td>0</td>\n",
       "      <td>1.0</td>\n",
       "      <td>0.0</td>\n",
       "      <td>3.0</td>\n",
       "      <td>14.0</td>\n",
       "    </tr>\n",
       "    <tr>\n",
       "      <th>1566</th>\n",
       "      <td>27</td>\n",
       "      <td>1</td>\n",
       "      <td>0</td>\n",
       "      <td>0</td>\n",
       "      <td>0</td>\n",
       "      <td>0</td>\n",
       "      <td>0</td>\n",
       "      <td>0</td>\n",
       "      <td>0</td>\n",
       "      <td>0</td>\n",
       "      <td>1.0</td>\n",
       "      <td>1.0</td>\n",
       "      <td>14.0</td>\n",
       "      <td>11.0</td>\n",
       "    </tr>\n",
       "    <tr>\n",
       "      <th>1567</th>\n",
       "      <td>24</td>\n",
       "      <td>0</td>\n",
       "      <td>0</td>\n",
       "      <td>0</td>\n",
       "      <td>0</td>\n",
       "      <td>0</td>\n",
       "      <td>0</td>\n",
       "      <td>0</td>\n",
       "      <td>0</td>\n",
       "      <td>0</td>\n",
       "      <td>1.0</td>\n",
       "      <td>1.0</td>\n",
       "      <td>3.0</td>\n",
       "      <td>11.0</td>\n",
       "    </tr>\n",
       "    <tr>\n",
       "      <th>1568</th>\n",
       "      <td>29</td>\n",
       "      <td>0</td>\n",
       "      <td>0</td>\n",
       "      <td>0</td>\n",
       "      <td>0</td>\n",
       "      <td>0</td>\n",
       "      <td>0</td>\n",
       "      <td>0</td>\n",
       "      <td>0</td>\n",
       "      <td>0</td>\n",
       "      <td>1.0</td>\n",
       "      <td>1.0</td>\n",
       "      <td>3.0</td>\n",
       "      <td>11.0</td>\n",
       "    </tr>\n",
       "    <tr>\n",
       "      <th>1569</th>\n",
       "      <td>28</td>\n",
       "      <td>0</td>\n",
       "      <td>0</td>\n",
       "      <td>0</td>\n",
       "      <td>0</td>\n",
       "      <td>0</td>\n",
       "      <td>0</td>\n",
       "      <td>0</td>\n",
       "      <td>0</td>\n",
       "      <td>0</td>\n",
       "      <td>1.0</td>\n",
       "      <td>2.0</td>\n",
       "      <td>14.0</td>\n",
       "      <td>11.0</td>\n",
       "    </tr>\n",
       "  </tbody>\n",
       "</table>\n",
       "<p>1570 rows × 14 columns</p>\n",
       "</div>"
      ],
      "text/plain": [
       "      Edad (Segundo credito)  Personas a cargo  1_Cantidad Moras 30  \\\n",
       "0                         26                 0                    1   \n",
       "1                         28                 0                    0   \n",
       "2                         23                 0                    1   \n",
       "3                         23                 1                    4   \n",
       "4                         25                 0                    0   \n",
       "...                      ...               ...                  ...   \n",
       "1565                      32                 0                    0   \n",
       "1566                      27                 1                    0   \n",
       "1567                      24                 0                    0   \n",
       "1568                      29                 0                    0   \n",
       "1569                      28                 0                    0   \n",
       "\n",
       "      1_Cantidad Moras 60  1_Cantidad Moras 90  1_Cantidad Moras Mayor 120  \\\n",
       "0                       0                    0                           0   \n",
       "1                       0                    0                           0   \n",
       "2                       0                    0                           0   \n",
       "3                       2                    1                           4   \n",
       "4                       0                    0                           0   \n",
       "...                   ...                  ...                         ...   \n",
       "1565                    0                    0                           0   \n",
       "1566                    0                    0                           0   \n",
       "1567                    0                    0                           0   \n",
       "1568                    0                    0                           0   \n",
       "1569                    0                    0                           0   \n",
       "\n",
       "      1_Cantidad Moras 30 Ultimos 6 Meses  \\\n",
       "0                                       1   \n",
       "1                                       0   \n",
       "2                                       1   \n",
       "3                                       0   \n",
       "4                                       0   \n",
       "...                                   ...   \n",
       "1565                                    0   \n",
       "1566                                    0   \n",
       "1567                                    0   \n",
       "1568                                    0   \n",
       "1569                                    0   \n",
       "\n",
       "      1_Cantidad Moras 60 Ultimos 6 Meses  \\\n",
       "0                                       0   \n",
       "1                                       0   \n",
       "2                                       0   \n",
       "3                                       1   \n",
       "4                                       0   \n",
       "...                                   ...   \n",
       "1565                                    0   \n",
       "1566                                    0   \n",
       "1567                                    0   \n",
       "1568                                    0   \n",
       "1569                                    0   \n",
       "\n",
       "      1_Cantidad Moras 90 Ultimos 6 Meses  \\\n",
       "0                                       0   \n",
       "1                                       0   \n",
       "2                                       0   \n",
       "3                                       1   \n",
       "4                                       0   \n",
       "...                                   ...   \n",
       "1565                                    0   \n",
       "1566                                    0   \n",
       "1567                                    0   \n",
       "1568                                    0   \n",
       "1569                                    0   \n",
       "\n",
       "      1_Cantidad Moras Mayor 120 Ultimos 6 Meses  Genero_ord  \\\n",
       "0                                              0         1.0   \n",
       "1                                              0         0.0   \n",
       "2                                              0         1.0   \n",
       "3                                              4         1.0   \n",
       "4                                              0         1.0   \n",
       "...                                          ...         ...   \n",
       "1565                                           0         1.0   \n",
       "1566                                           0         1.0   \n",
       "1567                                           0         1.0   \n",
       "1568                                           0         1.0   \n",
       "1569                                           0         1.0   \n",
       "\n",
       "      Tipo de cliente_ord  1_Marca_ord  2_Marca_ord  \n",
       "0                     0.0          0.0         14.0  \n",
       "1                     0.0         14.0          8.0  \n",
       "2                     0.0          8.0          0.0  \n",
       "3                     0.0          0.0          0.0  \n",
       "4                     0.0          0.0         15.0  \n",
       "...                   ...          ...          ...  \n",
       "1565                  0.0          3.0         14.0  \n",
       "1566                  1.0         14.0         11.0  \n",
       "1567                  1.0          3.0         11.0  \n",
       "1568                  1.0          3.0         11.0  \n",
       "1569                  2.0         14.0         11.0  \n",
       "\n",
       "[1570 rows x 14 columns]"
      ]
     },
     "execution_count": 108,
     "metadata": {},
     "output_type": "execute_result"
    }
   ],
   "source": [
    "data_final"
   ]
  },
  {
   "cell_type": "markdown",
   "id": "cba32ec5-9158-4953-9f87-8b865e160f76",
   "metadata": {},
   "source": [
    "## Regresion Logistica"
   ]
  },
  {
   "cell_type": "markdown",
   "id": "4debfeed-df63-4dfb-a0d0-b1d8efb766af",
   "metadata": {},
   "source": [
    " Con las 14 variables seleccionadas anteriormente, 10 numéricas y 4 categóricas, vamos a realizar una regresión logista para observar el p-value de las variables. "
   ]
  },
  {
   "cell_type": "code",
   "execution_count": 109,
   "id": "c7377057-0703-47de-a964-21b0ad7920d9",
   "metadata": {},
   "outputs": [],
   "source": [
    "X = np.asarray(data_final)\n",
    "X = StandardScaler().fit(X).transform(X)\n",
    "y = np.asarray(data.Default)"
   ]
  },
  {
   "cell_type": "code",
   "execution_count": 110,
   "id": "0c8a7f2f-2b1e-4d72-8c21-50c17d290c4d",
   "metadata": {},
   "outputs": [
    {
     "name": "stdout",
     "output_type": "stream",
     "text": [
      "Train set: (1256, 14) (1256,)\n",
      "Test set: (314, 14) (314,)\n"
     ]
    }
   ],
   "source": [
    "X_train, X_test, y_train, y_test = train_test_split( X, y, test_size=0.2, random_state=4)\n",
    "print ('Train set:', X_train.shape,  y_train.shape)\n",
    "print ('Test set:', X_test.shape,  y_test.shape)"
   ]
  },
  {
   "cell_type": "code",
   "execution_count": 111,
   "id": "d1f0d61f-d1ac-426a-a6d0-39fe34889dc9",
   "metadata": {},
   "outputs": [
    {
     "data": {
      "text/plain": [
       "array([0, 0, 0, ..., 0, 0, 0])"
      ]
     },
     "execution_count": 111,
     "metadata": {},
     "output_type": "execute_result"
    }
   ],
   "source": [
    "y_train"
   ]
  },
  {
   "cell_type": "code",
   "execution_count": 112,
   "id": "e7bb9cc7-b754-40da-863c-e8a53f00b6b7",
   "metadata": {},
   "outputs": [
    {
     "data": {
      "text/html": [
       "<style>#sk-container-id-2 {color: black;background-color: white;}#sk-container-id-2 pre{padding: 0;}#sk-container-id-2 div.sk-toggleable {background-color: white;}#sk-container-id-2 label.sk-toggleable__label {cursor: pointer;display: block;width: 100%;margin-bottom: 0;padding: 0.3em;box-sizing: border-box;text-align: center;}#sk-container-id-2 label.sk-toggleable__label-arrow:before {content: \"▸\";float: left;margin-right: 0.25em;color: #696969;}#sk-container-id-2 label.sk-toggleable__label-arrow:hover:before {color: black;}#sk-container-id-2 div.sk-estimator:hover label.sk-toggleable__label-arrow:before {color: black;}#sk-container-id-2 div.sk-toggleable__content {max-height: 0;max-width: 0;overflow: hidden;text-align: left;background-color: #f0f8ff;}#sk-container-id-2 div.sk-toggleable__content pre {margin: 0.2em;color: black;border-radius: 0.25em;background-color: #f0f8ff;}#sk-container-id-2 input.sk-toggleable__control:checked~div.sk-toggleable__content {max-height: 200px;max-width: 100%;overflow: auto;}#sk-container-id-2 input.sk-toggleable__control:checked~label.sk-toggleable__label-arrow:before {content: \"▾\";}#sk-container-id-2 div.sk-estimator input.sk-toggleable__control:checked~label.sk-toggleable__label {background-color: #d4ebff;}#sk-container-id-2 div.sk-label input.sk-toggleable__control:checked~label.sk-toggleable__label {background-color: #d4ebff;}#sk-container-id-2 input.sk-hidden--visually {border: 0;clip: rect(1px 1px 1px 1px);clip: rect(1px, 1px, 1px, 1px);height: 1px;margin: -1px;overflow: hidden;padding: 0;position: absolute;width: 1px;}#sk-container-id-2 div.sk-estimator {font-family: monospace;background-color: #f0f8ff;border: 1px dotted black;border-radius: 0.25em;box-sizing: border-box;margin-bottom: 0.5em;}#sk-container-id-2 div.sk-estimator:hover {background-color: #d4ebff;}#sk-container-id-2 div.sk-parallel-item::after {content: \"\";width: 100%;border-bottom: 1px solid gray;flex-grow: 1;}#sk-container-id-2 div.sk-label:hover label.sk-toggleable__label {background-color: #d4ebff;}#sk-container-id-2 div.sk-serial::before {content: \"\";position: absolute;border-left: 1px solid gray;box-sizing: border-box;top: 0;bottom: 0;left: 50%;z-index: 0;}#sk-container-id-2 div.sk-serial {display: flex;flex-direction: column;align-items: center;background-color: white;padding-right: 0.2em;padding-left: 0.2em;position: relative;}#sk-container-id-2 div.sk-item {position: relative;z-index: 1;}#sk-container-id-2 div.sk-parallel {display: flex;align-items: stretch;justify-content: center;background-color: white;position: relative;}#sk-container-id-2 div.sk-item::before, #sk-container-id-2 div.sk-parallel-item::before {content: \"\";position: absolute;border-left: 1px solid gray;box-sizing: border-box;top: 0;bottom: 0;left: 50%;z-index: -1;}#sk-container-id-2 div.sk-parallel-item {display: flex;flex-direction: column;z-index: 1;position: relative;background-color: white;}#sk-container-id-2 div.sk-parallel-item:first-child::after {align-self: flex-end;width: 50%;}#sk-container-id-2 div.sk-parallel-item:last-child::after {align-self: flex-start;width: 50%;}#sk-container-id-2 div.sk-parallel-item:only-child::after {width: 0;}#sk-container-id-2 div.sk-dashed-wrapped {border: 1px dashed gray;margin: 0 0.4em 0.5em 0.4em;box-sizing: border-box;padding-bottom: 0.4em;background-color: white;}#sk-container-id-2 div.sk-label label {font-family: monospace;font-weight: bold;display: inline-block;line-height: 1.2em;}#sk-container-id-2 div.sk-label-container {text-align: center;}#sk-container-id-2 div.sk-container {/* jupyter's `normalize.less` sets `[hidden] { display: none; }` but bootstrap.min.css set `[hidden] { display: none !important; }` so we also need the `!important` here to be able to override the default hidden behavior on the sphinx rendered scikit-learn.org. See: https://github.com/scikit-learn/scikit-learn/issues/21755 */display: inline-block !important;position: relative;}#sk-container-id-2 div.sk-text-repr-fallback {display: none;}</style><div id=\"sk-container-id-2\" class=\"sk-top-container\"><div class=\"sk-text-repr-fallback\"><pre>LogisticRegression(C=0.01, solver=&#x27;liblinear&#x27;)</pre><b>In a Jupyter environment, please rerun this cell to show the HTML representation or trust the notebook. <br />On GitHub, the HTML representation is unable to render, please try loading this page with nbviewer.org.</b></div><div class=\"sk-container\" hidden><div class=\"sk-item\"><div class=\"sk-estimator sk-toggleable\"><input class=\"sk-toggleable__control sk-hidden--visually\" id=\"sk-estimator-id-2\" type=\"checkbox\" checked><label for=\"sk-estimator-id-2\" class=\"sk-toggleable__label sk-toggleable__label-arrow\">LogisticRegression</label><div class=\"sk-toggleable__content\"><pre>LogisticRegression(C=0.01, solver=&#x27;liblinear&#x27;)</pre></div></div></div></div></div>"
      ],
      "text/plain": [
       "LogisticRegression(C=0.01, solver='liblinear')"
      ]
     },
     "execution_count": 112,
     "metadata": {},
     "output_type": "execute_result"
    }
   ],
   "source": [
    "model = LogisticRegression(C=0.01, solver='liblinear')\n",
    "model.fit(X_train, y_train)"
   ]
  },
  {
   "cell_type": "code",
   "execution_count": 113,
   "id": "953266f7-0822-4c72-b909-c6819f56632e",
   "metadata": {},
   "outputs": [],
   "source": [
    "importance = model.coef_[0]"
   ]
  },
  {
   "cell_type": "code",
   "execution_count": 114,
   "id": "accb0c63-b84f-42f5-b025-b60bb1276557",
   "metadata": {},
   "outputs": [
    {
     "data": {
      "text/plain": [
       "array([-0.03723885,  0.14125106, -0.01199302,  0.07326251,  0.1610846 ,\n",
       "        0.17888445,  0.18539578,  0.21964078,  0.42361517,  0.33297834,\n",
       "        0.0939615 ,  0.05873604, -0.00411053, -0.29792827])"
      ]
     },
     "execution_count": 114,
     "metadata": {},
     "output_type": "execute_result"
    }
   ],
   "source": [
    "importance"
   ]
  },
  {
   "cell_type": "code",
   "execution_count": 115,
   "id": "e76cb88e-aa5b-4a2f-8de3-8bd12e9ad8fd",
   "metadata": {},
   "outputs": [
    {
     "name": "stdout",
     "output_type": "stream",
     "text": [
      "Edad (Segundo credito), Variable # 0: , Coefficient: -0.037238852899123195\n",
      "Personas a cargo, Variable # 1: , Coefficient: 0.1412510608520715\n",
      "1_Cantidad Moras 30, Variable # 2: , Coefficient: -0.011993021019586107\n",
      "1_Cantidad Moras 60, Variable # 3: , Coefficient: 0.07326251082975271\n",
      "1_Cantidad Moras 90, Variable # 4: , Coefficient: 0.16108459706119244\n",
      "1_Cantidad Moras Mayor 120, Variable # 5: , Coefficient: 0.1788844453447349\n",
      "1_Cantidad Moras 30 Ultimos 6 Meses, Variable # 6: , Coefficient: 0.18539577775251817\n",
      "1_Cantidad Moras 60 Ultimos 6 Meses, Variable # 7: , Coefficient: 0.2196407831484408\n",
      "1_Cantidad Moras 90 Ultimos 6 Meses, Variable # 8: , Coefficient: 0.42361516709332103\n",
      "1_Cantidad Moras Mayor 120 Ultimos 6 Meses, Variable # 9: , Coefficient: 0.3329783387436947\n",
      "Genero_ord, Variable # 10: , Coefficient: 0.09396150327951923\n",
      "Tipo de cliente_ord, Variable # 11: , Coefficient: 0.05873603813080394\n",
      "1_Marca_ord, Variable # 12: , Coefficient: -0.004110527150279477\n",
      "2_Marca_ord, Variable # 13: , Coefficient: -0.2979282719920057\n"
     ]
    },
    {
     "data": {
      "text/plain": [
       "8     0.423615\n",
       "9     0.332978\n",
       "7     0.219641\n",
       "6     0.185396\n",
       "5     0.178884\n",
       "4     0.161085\n",
       "1     0.141251\n",
       "10    0.093962\n",
       "3     0.073263\n",
       "11    0.058736\n",
       "12   -0.004111\n",
       "2    -0.011993\n",
       "0    -0.037239\n",
       "13   -0.297928\n",
       "dtype: float64"
      ]
     },
     "execution_count": 115,
     "metadata": {},
     "output_type": "execute_result"
    }
   ],
   "source": [
    "coeff = []\n",
    "for num,c in enumerate(importance):\n",
    "    coeff.append(c)\n",
    "    print('{}, Variable # {}: , Coefficient: {}'.format(data_final.columns[num],num,c))\n",
    "\n",
    "coeff = pd.Series(coeff, dtype='float64')\n",
    "coeff.sort_values(ascending=False)"
   ]
  },
  {
   "cell_type": "code",
   "execution_count": 31,
   "id": "23344ea5-dbf8-4c19-98af-749e91a5def1",
   "metadata": {},
   "outputs": [],
   "source": [
    "def roc(y_test,y_prob):\n",
    "    fpr, tpr, thresholds = roc_curve(y_test, y_prob)\n",
    "    auc = roc_auc_score(y_test, y_prob)\n",
    "\n",
    "    plt.plot(fpr, tpr, label='Curva ROC (AUC = {})'.format(auc))\n",
    "    plt.plot([0, 1], [0, 1], 'r--', label='Clasificador aleatorio')\n",
    "    plt.xlim([0, 1])\n",
    "    plt.ylim([0, 1])\n",
    "    plt.xlabel('Tasa de Falsos Positivos')\n",
    "    plt.ylabel('Tasa de Verdaderos Positivos')\n",
    "    plt.title('Curva ROC')\n",
    "    plt.legend()\n",
    "    plt.show()"
   ]
  },
  {
   "cell_type": "markdown",
   "id": "ddffb93e-1301-4491-b2f5-c6e5b8cce4e8",
   "metadata": {},
   "source": [
    " \n",
    "\n",
    "A continuación, vamos a usar algunos de los algoritmos clásicos de machine learning más populares con el fin de ver cual tiene mejor desempeño a la hora de predecir la variable default. "
   ]
  },
  {
   "cell_type": "code",
   "execution_count": 32,
   "id": "903058ab-68c3-4b5e-ab72-7256fb7c0455",
   "metadata": {},
   "outputs": [
    {
     "name": "stdout",
     "output_type": "stream",
     "text": [
      "****Results****\n",
      "LinearDiscriminantAnalysis\n",
      "confusion_matrix\n",
      "[[213  15]\n",
      " [ 31  55]]\n",
      "Accuracy: 85.3503%\n",
      "precision_score: 85.3503%\n",
      "f1_score: 70.5128%\n",
      "Log Loss: 0.4264827474764394\n"
     ]
    },
    {
     "data": {
      "image/png": "[encoded data removed]",
      "text/plain": [
       "<Figure size 432x288 with 1 Axes>"
      ]
     },
     "metadata": {
      "needs_background": "light"
     },
     "output_type": "display_data"
    },
    {
     "name": "stdout",
     "output_type": "stream",
     "text": [
      "ceros = 213, unos = 55\n",
      "****Results****\n",
      "QuadraticDiscriminantAnalysis\n",
      "confusion_matrix\n",
      "[[206  22]\n",
      " [ 30  56]]\n",
      "Accuracy: 83.4395%\n",
      "precision_score: 83.4395%\n",
      "f1_score: 68.2927%\n",
      "Log Loss: 1.5703983907693515\n"
     ]
    },
    {
     "name": "stderr",
     "output_type": "stream",
     "text": [
      "/tmp/ipykernel_53793/177164851.py:52: FutureWarning: The frame.append method is deprecated and will be removed from pandas in a future version. Use pandas.concat instead.\n",
      "  df_results = df_results.append(df_entry)\n"
     ]
    },
    {
     "data": {
      "image/png": "[encoded data removed]",
      "text/plain": [
       "<Figure size 432x288 with 1 Axes>"
      ]
     },
     "metadata": {
      "needs_background": "light"
     },
     "output_type": "display_data"
    },
    {
     "name": "stdout",
     "output_type": "stream",
     "text": [
      "ceros = 206, unos = 56\n",
      "****Results****\n",
      "KNeighborsClassifier\n",
      "confusion_matrix\n",
      "[[209  19]\n",
      " [ 43  43]]\n",
      "Accuracy: 80.2548%\n",
      "precision_score: 80.2548%\n",
      "f1_score: 58.1081%\n",
      "Log Loss: 4.917467819518328\n"
     ]
    },
    {
     "name": "stderr",
     "output_type": "stream",
     "text": [
      "/tmp/ipykernel_53793/177164851.py:52: FutureWarning: The frame.append method is deprecated and will be removed from pandas in a future version. Use pandas.concat instead.\n",
      "  df_results = df_results.append(df_entry)\n"
     ]
    },
    {
     "data": {
      "image/png": "[encoded data removed]",
      "text/plain": [
       "<Figure size 432x288 with 1 Axes>"
      ]
     },
     "metadata": {
      "needs_background": "light"
     },
     "output_type": "display_data"
    },
    {
     "name": "stdout",
     "output_type": "stream",
     "text": [
      "ceros = 209, unos = 43\n",
      "****Results****\n",
      "DecisionTreeClassifier\n",
      "confusion_matrix\n",
      "[[193  35]\n",
      " [ 25  61]]\n",
      "Accuracy: 80.8917%\n",
      "precision_score: 80.8917%\n",
      "f1_score: 67.0330%\n",
      "Log Loss: 6.403051036748776\n"
     ]
    },
    {
     "name": "stderr",
     "output_type": "stream",
     "text": [
      "/tmp/ipykernel_53793/177164851.py:52: FutureWarning: The frame.append method is deprecated and will be removed from pandas in a future version. Use pandas.concat instead.\n",
      "  df_results = df_results.append(df_entry)\n"
     ]
    },
    {
     "data": {
      "image/png": "[encoded data removed]",
      "text/plain": [
       "<Figure size 432x288 with 1 Axes>"
      ]
     },
     "metadata": {
      "needs_background": "light"
     },
     "output_type": "display_data"
    },
    {
     "name": "stdout",
     "output_type": "stream",
     "text": [
      "ceros = 193, unos = 61\n"
     ]
    },
    {
     "name": "stderr",
     "output_type": "stream",
     "text": [
      "/tmp/ipykernel_53793/177164851.py:52: FutureWarning: The frame.append method is deprecated and will be removed from pandas in a future version. Use pandas.concat instead.\n",
      "  df_results = df_results.append(df_entry)\n"
     ]
    },
    {
     "name": "stdout",
     "output_type": "stream",
     "text": [
      "****Results****\n",
      "SVC\n",
      "confusion_matrix\n",
      "[[213  15]\n",
      " [ 39  47]]\n",
      "Accuracy: 82.8025%\n",
      "precision_score: 82.8025%\n",
      "f1_score: 63.5135%\n",
      "Log Loss: 0.442928513429847\n"
     ]
    },
    {
     "data": {
      "image/png": "[encoded data removed]",
      "text/plain": [
       "<Figure size 432x288 with 1 Axes>"
      ]
     },
     "metadata": {
      "needs_background": "light"
     },
     "output_type": "display_data"
    },
    {
     "name": "stdout",
     "output_type": "stream",
     "text": [
      "ceros = 213, unos = 47\n"
     ]
    },
    {
     "name": "stderr",
     "output_type": "stream",
     "text": [
      "/tmp/ipykernel_53793/177164851.py:52: FutureWarning: The frame.append method is deprecated and will be removed from pandas in a future version. Use pandas.concat instead.\n",
      "  df_results = df_results.append(df_entry)\n"
     ]
    },
    {
     "name": "stdout",
     "output_type": "stream",
     "text": [
      "****Results****\n",
      "RandomForestClassifier\n",
      "confusion_matrix\n",
      "[[202  26]\n",
      " [ 31  55]]\n",
      "Accuracy: 81.8471%\n",
      "precision_score: 81.8471%\n",
      "f1_score: 65.8683%\n",
      "Log Loss: 0.45911964568594\n"
     ]
    },
    {
     "data": {
      "image/png": "[encoded data removed]",
      "text/plain": [
       "<Figure size 432x288 with 1 Axes>"
      ]
     },
     "metadata": {
      "needs_background": "light"
     },
     "output_type": "display_data"
    },
    {
     "name": "stdout",
     "output_type": "stream",
     "text": [
      "ceros = 202, unos = 55\n"
     ]
    },
    {
     "name": "stderr",
     "output_type": "stream",
     "text": [
      "/tmp/ipykernel_53793/177164851.py:52: FutureWarning: The frame.append method is deprecated and will be removed from pandas in a future version. Use pandas.concat instead.\n",
      "  df_results = df_results.append(df_entry)\n"
     ]
    },
    {
     "name": "stdout",
     "output_type": "stream",
     "text": [
      "****Results****\n",
      "GradientBoostingClassifier\n",
      "confusion_matrix\n",
      "[[211  17]\n",
      " [ 31  55]]\n",
      "Accuracy: 84.7134%\n",
      "precision_score: 84.7134%\n",
      "f1_score: 69.6203%\n",
      "Log Loss: 0.4066092585908024\n"
     ]
    },
    {
     "data": {
      "image/png": "[encoded data removed]",
      "text/plain": [
       "<Figure size 432x288 with 1 Axes>"
      ]
     },
     "metadata": {
      "needs_background": "light"
     },
     "output_type": "display_data"
    },
    {
     "name": "stdout",
     "output_type": "stream",
     "text": [
      "ceros = 211, unos = 55\n"
     ]
    },
    {
     "name": "stderr",
     "output_type": "stream",
     "text": [
      "/tmp/ipykernel_53793/177164851.py:52: FutureWarning: The frame.append method is deprecated and will be removed from pandas in a future version. Use pandas.concat instead.\n",
      "  df_results = df_results.append(df_entry)\n"
     ]
    }
   ],
   "source": [
    "classifiers = [LinearDiscriminantAnalysis(),\n",
    "QuadraticDiscriminantAnalysis(),\n",
    "KNeighborsClassifier(2),\n",
    "DecisionTreeClassifier(),\n",
    "SVC(kernel=\"rbf\", C=0.025, probability=True),\n",
    "RandomForestClassifier(),\n",
    "GradientBoostingClassifier()]\n",
    "\n",
    "col_names = [\"Model\", \"Accuracy\", \"Log Loss\"]\n",
    "df_results = pd.DataFrame(columns=col_names)\n",
    "predictions = []\n",
    "for model in classifiers:\n",
    "    \n",
    "    name = model.__class__.__name__\n",
    "    model.fit(X_train, y_train)\n",
    "    \n",
    "    print('****Results****')\n",
    "    print(name)\n",
    "    print('confusion_matrix')\n",
    "    train_predictions = model.predict(X_test)\n",
    "    cf = confusion_matrix(y_test, train_predictions)\n",
    "    print(cf)\n",
    "    acc = accuracy_score(y_test, train_predictions)\n",
    "    print(\"Accuracy: {:.4%}\".format(acc))\n",
    "    train_predictions = model.predict(X_test)\n",
    "    precision = accuracy_score(y_test, train_predictions)\n",
    "    print(\"precision_score: {:.4%}\".format(precision))\n",
    "    train_predictions = model.predict(X_test)\n",
    "    f1 = f1_score(y_test, train_predictions)\n",
    "    print(\"f1_score: {:.4%}\".format(f1))    \n",
    "    train_predictions = model.predict_proba(X_test)\n",
    "    ll = log_loss(y_test, train_predictions)\n",
    "    print(\"Log Loss: {}\".format(ll))\n",
    "    y_prob_positive = train_predictions[:, 1]\n",
    "    roc(y_test,y_prob_positive)\n",
    "    \n",
    "    train_predictions = model.predict(X_test)\n",
    "    ceros = 0\n",
    "    unos = 0\n",
    "    for i in range(len(train_predictions)):\n",
    "        if train_predictions[i] == 0:\n",
    "            if train_predictions[i] == y_test[i]:\n",
    "                ceros += 1\n",
    "        else:\n",
    "            if train_predictions[i] == y_test[i]:\n",
    "                unos += 1\n",
    "                \n",
    "                \n",
    "    print('ceros = {}, unos = {}'.format(ceros,unos))\n",
    "            \n",
    "    df_entry = pd.DataFrame([[name, acc*100, ll]], columns=col_names)\n",
    "    df_results = df_results.append(df_entry)"
   ]
  },
  {
   "cell_type": "markdown",
   "id": "04133651-adb5-4e0e-872e-b4c569466b36",
   "metadata": {},
   "source": [
    "Hasta este punto los algortimos que mostraron mejor desempeño fueron el LDA y el GradientBoostingClassifier. Sin embargo, vamos a implementar una red neuronal\n",
    "usando la libreria de pytorch con el fin de mojar los resultados anteriores"
   ]
  },
  {
   "cell_type": "markdown",
   "id": "d4b7e68e-d9c0-4fa3-b92b-560d7fadc9fb",
   "metadata": {},
   "source": [
    "### Red Neuronal"
   ]
  },
  {
   "cell_type": "code",
   "execution_count": 116,
   "id": "ae5c59cc-dc5c-4cb6-b222-444af696aff0",
   "metadata": {},
   "outputs": [],
   "source": [
    "#Importamos las librerias de pytorch\n",
    "import torch as T\n",
    "import torch.multiprocessing as mp\n",
    "import torch.nn as nn\n",
    "import torch.nn.functional as F\n",
    "from torch.distributions import Categorical"
   ]
  },
  {
   "cell_type": "code",
   "execution_count": 117,
   "id": "bf0cd8a3-94a2-43af-a28c-5ddf8f2020fb",
   "metadata": {},
   "outputs": [],
   "source": [
    "#Creamos la clase Model, la cual contiene las estructura de la red neuronal\n",
    "\n",
    "class Model(nn.Module):\n",
    "    def __init__(self, input_dims):\n",
    "        super(Model, self).__init__()\n",
    "\n",
    "        self.fc1 = nn.Linear(input_dims, 32)\n",
    "        self.d1 = nn.Dropout(0.4)\n",
    "        self.fc2 = nn.Linear(32, 64)\n",
    "        self.d2 = nn.Dropout(0.2)\n",
    "        self.fc3 = nn.Linear(64, 128)\n",
    "        self.d3 = nn.Dropout(0.1)\n",
    "        self.fc4 = nn.Linear(128, 64)\n",
    "        self.d4 = nn.Dropout(0.2)\n",
    "        self.fc5 = nn.Linear(64, 32)\n",
    "        self.d5 = nn.Dropout(0.4)\n",
    "        self.fc6 = nn.Linear(32, 16)\n",
    "        self.v = nn.Linear(16, 2)\n",
    "        \n",
    "\n",
    "    def forward(self, state):\n",
    "        \n",
    "       \n",
    "        output = T.relu(self.fc1(state))\n",
    "        output = self.d1(output)\n",
    "        output = T.relu(self.fc2(output))\n",
    "        output = self.d2(output)\n",
    "        output = T.relu(self.fc3(output))\n",
    "        output = self.d3(output)\n",
    "        output = T.relu(self.fc4(output))\n",
    "        output = self.d4(output)\n",
    "        output = T.relu(self.fc5(output))\n",
    "        output = self.d5(output)\n",
    "        output = T.relu(self.fc6(output))\n",
    "        result = self.v(output)\n",
    "\n",
    "        return result"
   ]
  },
  {
   "cell_type": "code",
   "execution_count": 118,
   "id": "7873e0ba-6d02-4853-b686-b075ad420c4f",
   "metadata": {},
   "outputs": [],
   "source": [
    "#Creamos la clase Optimization, la cual se encarga de entrenar el modelo y acutualizar los pesos de la red en cada epoca\n",
    "\n",
    "class Optimization:\n",
    "    def __init__(self, model, loss_fn, optimizer):\n",
    "        self.model = model\n",
    "        self.loss_fn = loss_fn\n",
    "        self.optimizer = optimizer\n",
    "        self.train_losses = []\n",
    "        self.val_losses = []\n",
    "    \n",
    "    def train_step(self, x, y):\n",
    "        # Sets model to train mode\n",
    "        self.model.train()\n",
    "        yhat = self.model(x)\n",
    "        y=y.ravel() \n",
    "        y = y.long()\n",
    "        loss = self.loss_fn(yhat, y)\n",
    "\n",
    "        # Computes gradients\n",
    "        loss.backward()\n",
    "\n",
    "        # Updates parameters and zeroes gradients\n",
    "        self.optimizer.step()\n",
    "        self.optimizer.zero_grad()\n",
    "\n",
    "        # Returns the loss\n",
    "        return loss.item()\n",
    "    \n",
    "    \n",
    "    def train(self, train_loader, val_loader, batch_size= 64, n_epochs=50, n_features=1):\n",
    "        print('batch_size', batch_size)\n",
    "        for epoch in range(1, n_epochs + 1):\n",
    "            batch_losses = []\n",
    "            for x_batch, y_batch in train_loader:\n",
    "                x_batch = x_batch\n",
    "                y_batch = y_batch\n",
    "                loss = self.train_step(x_batch, y_batch)\n",
    "                batch_losses.append(loss)\n",
    "            training_loss = np.mean(batch_losses)\n",
    "            self.train_losses.append(training_loss)\n",
    "\n",
    "            with T.no_grad():\n",
    "                batch_val_losses = []\n",
    "                for x_val, y_val in val_loader:\n",
    "                    x_val = x_val\n",
    "                    y_val = y_val\n",
    "                    y_val=y_val.ravel() \n",
    "                    y_val = y_val.long()\n",
    "                    self.model.eval()\n",
    "                    yhat = self.model(x_val)\n",
    "                    val_loss = self.loss_fn(yhat, y_val)\n",
    "                    batch_val_losses.append(val_loss)\n",
    "                validation_loss = np.mean(batch_val_losses)\n",
    "                self.val_losses.append(validation_loss)\n",
    "\n",
    "            if (epoch % 10 == 0):\n",
    "                print(\n",
    "                    f\"[{epoch}/{n_epochs}] Training loss: {training_loss:.4f}\\t Validation loss: {validation_loss:.4f}\"\n",
    "                )\n",
    "        \n",
    "        T.save(self.model.state_dict(),'models_prueba.zip')\n",
    "    \n",
    "    def evaluate(self, test_loader, batch_size=1, n_features=1):\n",
    "        with torch.no_grad():\n",
    "            predictions = []\n",
    "            values = []\n",
    "            for x_test, y_test in test_loader:\n",
    "                x_test = x_test.view([batch_size, -1, n_features]).to(device)\n",
    "                y_test = y_test.to(device)\n",
    "                self.model.eval()\n",
    "                yhat = self.model(x_test)\n",
    "                predictions.append(yhat.to(device).detach().numpy())\n",
    "                values.append(y_test.to(device).detach().numpy())\n",
    "\n",
    "        return predictions, values\n",
    "    \n",
    "    def plot_losses(self):\n",
    "        plt.plot(self.train_losses, label=\"Training loss\")\n",
    "        plt.plot(self.val_losses, label=\"Validation loss\")\n",
    "        plt.legend()\n",
    "        plt.title(\"Losses\")\n",
    "        plt.show()\n",
    "        plt.close()"
   ]
  },
  {
   "cell_type": "code",
   "execution_count": 119,
   "id": "b28749fd-3ce3-48f4-b789-bdb1822b9407",
   "metadata": {},
   "outputs": [],
   "source": [
    "from torch.utils.data import TensorDataset, DataLoader\n",
    "\n",
    "batch_size_n = 32\n",
    "#batch_size_n_test = len(x_test)\n",
    "\n",
    "\n",
    "train_features = T.Tensor(X_train)\n",
    "train_targets = T.Tensor(y_train)\n",
    "val_features = T.Tensor(X_test)\n",
    "val_targets = T.Tensor(y_test)\n",
    "\n",
    "\n",
    "train = TensorDataset(train_features, train_targets)\n",
    "val = TensorDataset(val_features, val_targets)\n",
    "\n",
    "train_loader = DataLoader(train, batch_size=batch_size_n, shuffle=False, drop_last=True)\n",
    "val_loader = DataLoader(val, batch_size=batch_size_n, shuffle=False, drop_last=True)"
   ]
  },
  {
   "cell_type": "code",
   "execution_count": 120,
   "id": "a7165705-b6bd-48a2-a9a2-2d07c5912cde",
   "metadata": {},
   "outputs": [
    {
     "name": "stdout",
     "output_type": "stream",
     "text": [
      "batch_size 32\n",
      "[10/150] Training loss: 0.4958\t Validation loss: 0.4595\n",
      "[20/150] Training loss: 0.4423\t Validation loss: 0.4076\n",
      "[30/150] Training loss: 0.4208\t Validation loss: 0.4106\n",
      "[40/150] Training loss: 0.4330\t Validation loss: 0.4133\n",
      "[50/150] Training loss: 0.4223\t Validation loss: 0.4136\n",
      "[60/150] Training loss: 0.4092\t Validation loss: 0.4153\n",
      "[70/150] Training loss: 0.4165\t Validation loss: 0.4171\n",
      "[80/150] Training loss: 0.4116\t Validation loss: 0.4183\n",
      "[90/150] Training loss: 0.4159\t Validation loss: 0.4193\n",
      "[100/150] Training loss: 0.4097\t Validation loss: 0.4195\n",
      "[110/150] Training loss: 0.4092\t Validation loss: 0.4188\n",
      "[120/150] Training loss: 0.4061\t Validation loss: 0.4189\n",
      "[130/150] Training loss: 0.4004\t Validation loss: 0.4176\n",
      "[140/150] Training loss: 0.3998\t Validation loss: 0.4184\n",
      "[150/150] Training loss: 0.3961\t Validation loss: 0.4160\n"
     ]
    },
    {
     "data": {
      "image/png": "[encoded data removed]",
      "text/plain": [
       "<Figure size 432x288 with 1 Axes>"
      ]
     },
     "metadata": {
      "needs_background": "light"
     },
     "output_type": "display_data"
    }
   ],
   "source": [
    "import torch.optim as optim\n",
    "\n",
    "#Ajustamos los hiperparametros y entrenamos el modelos\n",
    "\n",
    "batch_size = batch_size_n\n",
    "n_epochs = 150\n",
    "input_dims = 14\n",
    "learning_rate = 1e-4\n",
    "weight_decay = 1e-6\n",
    "\n",
    "model = Model(input_dims = input_dims)\n",
    "\n",
    "optimizer = optim.Adam(model.parameters(), lr=learning_rate, weight_decay=weight_decay)\n",
    "loss_fn = T.nn.CrossEntropyLoss()\n",
    "\n",
    "opt = Optimization(model=model, loss_fn=loss_fn, optimizer=optimizer)\n",
    "opt.train(train_loader, val_loader, batch_size=batch_size, n_epochs=n_epochs, n_features = input_dims )\n",
    "opt.plot_losses()"
   ]
  },
  {
   "cell_type": "code",
   "execution_count": 121,
   "id": "f0cbe28b-14ad-4d02-a652-73eb069936bb",
   "metadata": {},
   "outputs": [],
   "source": [
    "# Resultados en los datos de Train\n",
    "model.eval()\n",
    "yhat_train = model(train_features)\n",
    "\n",
    "Directions_train = []\n",
    "for row in range(len(yhat_train)):\n",
    "    predicted_train = T.softmax(yhat_train[row], dim=0)\n",
    "    #print(predicted_train)\n",
    "    action_train = T.argmax(predicted_train)\n",
    "    Directions_train.append(action_train.item())"
   ]
  },
  {
   "cell_type": "code",
   "execution_count": 122,
   "id": "12f55b50-f5dd-4e0e-9476-d72732331e12",
   "metadata": {},
   "outputs": [
    {
     "name": "stdout",
     "output_type": "stream",
     "text": [
      "****Results****\n",
      "[[858  33]\n",
      " [140 225]]\n",
      "Accuracy: 86.2261%\n",
      "f1_score: 72.2311%\n",
      "Log Loss: 4.757352470569064\n"
     ]
    }
   ],
   "source": [
    "print('****Results****')\n",
    "cf = confusion_matrix(y_train, Directions_train)\n",
    "print(cf)\n",
    "acc = accuracy_score(y_train, Directions_train)\n",
    "print(\"Accuracy: {:.4%}\".format(acc))\n",
    "f1 = f1_score(y_train, Directions_train)\n",
    "print(\"f1_score: {:.4%}\".format(f1))    \n",
    "ll = log_loss(y_train, Directions_train)\n",
    "print(\"Log Loss: {}\".format(ll))"
   ]
  },
  {
   "cell_type": "code",
   "execution_count": 123,
   "id": "a6ed1429-d5fd-43d6-944e-af618cf1aa58",
   "metadata": {},
   "outputs": [],
   "source": [
    "# Resultados en los datos de Test\n",
    "model.eval()\n",
    "yhat = model(val_features)\n",
    "Directions = []\n",
    "for row in range(len(yhat)):\n",
    "    predicted = T.softmax(yhat[row], dim=0)\n",
    "    #print(predicted)\n",
    "    action = T.argmax(predicted)\n",
    "    Directions.append(action.item())"
   ]
  },
  {
   "cell_type": "code",
   "execution_count": 124,
   "id": "d28fa09d-c5f7-496b-bbd0-d245b03803e1",
   "metadata": {},
   "outputs": [
    {
     "name": "stdout",
     "output_type": "stream",
     "text": [
      "****Results****\n",
      "[[211  17]\n",
      " [ 34  52]]\n",
      "Accuracy: 83.7580%\n",
      "f1_score: 67.0968%\n",
      "Log Loss: 5.609844551900504\n"
     ]
    }
   ],
   "source": [
    "print('****Results****')\n",
    "cf = confusion_matrix(y_test, Directions)\n",
    "print(cf)\n",
    "acc = accuracy_score(y_test, Directions)\n",
    "print(\"Accuracy: {:.4%}\".format(acc))\n",
    "f1 = f1_score(y_test, Directions)\n",
    "print(\"f1_score: {:.4%}\".format(f1))    \n",
    "ll = log_loss(y_test, Directions)\n",
    "print(\"Log Loss: {}\".format(ll))"
   ]
  },
  {
   "cell_type": "markdown",
   "id": "10a41793-bda3-484d-b6b0-e12ee3d90c41",
   "metadata": {},
   "source": [
    "Los resultados de la red son buenos, pero con esta estructura no superan los resultados del LDA y el GradientBoostingClassifier. Por tanto, en estos casos los algoritmos más simples son más parsimoniosos, ya que generan mejores resultados y no son tan computacionalmente costosos a la hora de realizar su entrenamiento. "
   ]
  },
  {
   "cell_type": "code",
   "execution_count": null,
   "id": "4e0dc0b2-1b32-4f79-ae4a-0aa20230f51e",
   "metadata": {},
   "outputs": [],
   "source": []
  }
 ],
 "metadata": {
  "kernelspec": {
   "display_name": "Environment (conda_eafit)",
   "language": "python",
   "name": "conda_eafit"
  },
  "language_info": {
   "codemirror_mode": {
    "name": "ipython",
    "version": 3
   },
   "file_extension": ".py",
   "mimetype": "text/x-python",
   "name": "python",
   "nbconvert_exporter": "python",
   "pygments_lexer": "ipython3",
   "version": "3.8.13"
  }
 },
 "nbformat": 4,
 "nbformat_minor": 5
}
